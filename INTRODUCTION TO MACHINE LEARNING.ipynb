{
 "cells": [
  {
   "cell_type": "markdown",
   "metadata": {},
   "source": [
    "# INTRODUCTION TO MACHINE LEARNING"
   ]
  },
  {
   "cell_type": "markdown",
   "metadata": {},
   "source": [
    "## APPLICATIN OF MACHINE LEARNING INCLUDE THE FOLLOWING AMONG OPTHERS\n",
    "* Product recommendation in e-commerce sites e.g Amazon, Jumia, Kilimall\n",
    "* Movie recomendation e.g Netflix\n",
    "* google map road traffic recomendation \n",
    "\n"
   ]
  },
  {
   "cell_type": "markdown",
   "metadata": {},
   "source": [
    "## TYPES OF MACHINE LEARNING\n",
    "* Unsupervised learning\n",
    "* supervised learning\n",
    "* Reinforcement learning"
   ]
  },
  {
   "cell_type": "markdown",
   "metadata": {},
   "source": [
    "### Surpervised learning examplea\n",
    "* Spam mails classifier\n",
    "* finger-print analysis\n",
    "### Unsupervised learning\n",
    "* Voice Based Personal Assistant\n",
    "* Netflix Recommendation\n",
    "### Reinforcement learning\n",
    "* Self-Driving cars"
   ]
  }
 ],
 "metadata": {
  "kernelspec": {
   "display_name": "Python 3",
   "language": "python",
   "name": "python3"
  },
  "language_info": {
   "codemirror_mode": {
    "name": "ipython",
    "version": 3
   },
   "file_extension": ".py",
   "mimetype": "text/x-python",
   "name": "python",
   "nbconvert_exporter": "python",
   "pygments_lexer": "ipython3",
   "version": "3.7.3"
  }
 },
 "nbformat": 4,
 "nbformat_minor": 2
}
